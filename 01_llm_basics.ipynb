{
 "cells": [
  {
   "cell_type": "markdown",
   "metadata": {},
   "source": [
    "# 🧠 01 - Fundamentos de LLM (Large Language Models)\n",
    "\n",
    "Este notebook te guía por los conceptos esenciales de los modelos de lenguaje (LLM) y cómo se usan para generar texto.\n",
    "\n",
    "**Objetivos:**\n",
    "- Entender qué es un LLM y cómo se usa mediante API.\n",
    "- Explorar los parámetros de generación (temperature, top-p, etc.).\n",
    "- Observar diferencias de comportamiento del modelo según el prompt.\n",
    "- Prepararte para usar Amazon Bedrock y Titan más adelante.\n"
   ]
  },
  {
   "cell_type": "markdown",
   "metadata": {},
   "source": [
    "## 🔧 Configuración inicial\n",
    "\n",
    "Podés usar este notebook con **OpenAI** (requiere API key) o en modo **simulado** si todavía no la tenés.  \n",
    "Para OpenAI, creá una variable de entorno llamada `OPENAI_API_KEY` o escribila directamente (no recomendable en entornos públicos)."
   ]
  },
  {
   "cell_type": "code",
   "execution_count": 1,
   "metadata": {},
   "outputs": [
    {
     "name": "stdout",
     "output_type": "stream",
     "text": [
      "Modo simulado activado. No se encontró API key válida.\n"
     ]
    }
   ],
   "source": [
    "# Si tenés una API key de OpenAI, descomentá y configurala:\n",
    "# import os\n",
    "# os.environ[\"OPENAI_API_KEY\"] = \"tu_api_key_aqui\"\n",
    "\n",
    "try:\n",
    "    from openai import OpenAI\n",
    "    client = OpenAI()\n",
    "    test_model = True\n",
    "except Exception as e:\n",
    "    print(\"Modo simulado activado. No se encontró API key válida.\")\n",
    "    test_model = False"
   ]
  },
  {
   "cell_type": "markdown",
   "metadata": {},
   "source": [
    "## ✍️ Ejemplo básico de generación de texto"
   ]
  },
  {
   "cell_type": "code",
   "execution_count": 2,
   "metadata": {},
   "outputs": [
    {
     "name": "stdout",
     "output_type": "stream",
     "text": [
      "[Simulación] Un LLM es un modelo de IA que aprende patrones del lenguaje humano a partir de grandes volúmenes de texto. Puede generar, resumir o traducir contenido con coherencia contextual. Son la base de herramientas como ChatGPT o Claude.\n"
     ]
    }
   ],
   "source": [
    "prompt = \"Explica en 3 frases qué es un modelo de lenguaje grande (LLM).\"\n",
    "\n",
    "if test_model:\n",
    "    response = client.chat.completions.create(\n",
    "        model=\"gpt-4o-mini\",\n",
    "        messages=[{\"role\": \"user\", \"content\": prompt}]\n",
    "    )\n",
    "    print(response.choices[0].message.content)\n",
    "else:\n",
    "    print(\"[Simulación] Un LLM es un modelo de IA que aprende patrones del lenguaje humano a partir de grandes volúmenes de texto. Puede generar, resumir o traducir contenido con coherencia contextual. Son la base de herramientas como ChatGPT o Claude.\")"
   ]
  },
  {
   "cell_type": "markdown",
   "metadata": {},
   "source": [
    "## 🎛️ Explorando parámetros: temperature y top-p\n",
    "\n",
    "- **temperature**: controla la *creatividad* (0 = más precisa, 1 = más aleatoria).  \n",
    "- **top-p**: usa muestreo acumulativo; controla qué porcentaje de probabilidad se considera en cada predicción.\n",
    "\n",
    "Probá con diferentes valores y observá cómo cambia el tono o la estructura."
   ]
  },
  {
   "cell_type": "code",
   "execution_count": 3,
   "metadata": {},
   "outputs": [
    {
     "name": "stdout",
     "output_type": "stream",
     "text": [
      "[Simulación] A menor temperature, las respuestas serán más técnicas y concisas; a mayor temperature, más creativas y variadas.\n"
     ]
    }
   ],
   "source": [
    "prompt = \"Describe la importancia de la IA en el sector salud.\"\n",
    "\n",
    "if test_model:\n",
    "    for temp in [0, 0.5, 1.0]:\n",
    "        print(f\"\\n--- Temperature = {temp} ---\")\n",
    "        response = client.chat.completions.create(\n",
    "            model=\"gpt-4o-mini\",\n",
    "            messages=[{\"role\": \"user\", \"content\": prompt}],\n",
    "            temperature=temp\n",
    "        )\n",
    "        print(response.choices[0].message.content)\n",
    "else:\n",
    "    print(\"[Simulación] A menor temperature, las respuestas serán más técnicas y concisas; a mayor temperature, más creativas y variadas.\")"
   ]
  },
  {
   "cell_type": "markdown",
   "metadata": {},
   "source": [
    "## 🧩 Ejercicio guiado: comparación de prompts\n",
    "\n",
    "Observá cómo cambia la respuesta dependiendo de **cómo pedís** lo mismo."
   ]
  },
  {
   "cell_type": "code",
   "execution_count": 4,
   "metadata": {},
   "outputs": [
    {
     "name": "stdout",
     "output_type": "stream",
     "text": [
      "\n",
      "Prompt: Explica qué es la computación cuántica.\n",
      "\n",
      "[Simulación] Respuesta ejemplo para: 'Explica qué es la computación cuántica.'\n",
      "\n",
      "Prompt: Explica qué es la computación cuántica como si tu interlocutor fuera un niño de 10 años.\n",
      "\n",
      "[Simulación] Respuesta ejemplo para: 'Explica qué es la computación cuántica como si tu interlocutor fuera un niño de 10 años.'\n",
      "\n",
      "Prompt: Dame una analogía para entender la computación cuántica.\n",
      "\n",
      "[Simulación] Respuesta ejemplo para: 'Dame una analogía para entender la computación cuántica.'\n"
     ]
    }
   ],
   "source": [
    "prompts = [\n",
    "    \"Explica qué es la computación cuántica.\",\n",
    "    \"Explica qué es la computación cuántica como si tu interlocutor fuera un niño de 10 años.\",\n",
    "    \"Dame una analogía para entender la computación cuántica.\",\n",
    "]\n",
    "\n",
    "for p in prompts:\n",
    "    print(f\"\\nPrompt: {p}\\n\")\n",
    "    if test_model:\n",
    "        response = client.chat.completions.create(\n",
    "            model=\"gpt-4o-mini\",\n",
    "            messages=[{\"role\": \"user\", \"content\": p}]\n",
    "        )\n",
    "        print(response.choices[0].message.content)\n",
    "    else:\n",
    "        print(f\"[Simulación] Respuesta ejemplo para: '{p}'\")"
   ]
  },
  {
   "cell_type": "markdown",
   "metadata": {},
   "source": [
    "## 💡 Reflexión\n",
    "- Los LLM no *entienden* el lenguaje como humanos, sino que predicen patrones estadísticos.\n",
    "- El diseño del **prompt** determina la calidad y precisión de la respuesta.\n",
    "- Cambiar temperature/top-p afecta el balance entre coherencia y creatividad.\n",
    "\n",
    "👉 En el próximo notebook (`02_rag_example.ipynb`), vas a combinar estas ideas con tus propios documentos (RAG)."
   ]
  }
 ],
 "metadata": {
  "kernelspec": {
   "display_name": "Python 3",
   "language": "python",
   "name": "python3"
  },
  "language_info": {
   "codemirror_mode": {
    "name": "ipython",
    "version": 3
   },
   "file_extension": ".py",
   "mimetype": "text/x-python",
   "name": "python",
   "nbconvert_exporter": "python",
   "pygments_lexer": "ipython3",
   "version": "3.11.3"
  }
 },
 "nbformat": 4,
 "nbformat_minor": 2
}
